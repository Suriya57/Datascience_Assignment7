{
 "cells": [
  {
   "cell_type": "code",
   "execution_count": 3,
   "metadata": {},
   "outputs": [
    {
     "name": "stdout",
     "output_type": "stream",
     "text": [
      "The moving average for the given window over the array is :  [ 25.  35.  45.  55.  65.  75.  85.] \n",
      "\n",
      "The moving average for the given window over the array is :  [   5.            4.66666667    5.66666667    6.66666667    9.66666667\n",
      "   28.66666667   49.33333333   72.66666667   84.           93.33333333\n",
      "  116.33333333]\n"
     ]
    }
   ],
   "source": [
    "import numpy as np\n",
    "def running_avg(Myarray, window):\n",
    "    '''We construct a second array using numpy's ones function divisible by the window size for the convolution function \n",
    "    to apply the convolution product on distributed variables across the two different vectors which is our one \n",
    "    dimensional arrays. 'Valid' mode returns output only when the vectors overlap completely and the values outside \n",
    "    our window will not have any effect'''\n",
    "    return np.convolve(Myarray, np.ones((window,))/window, mode='valid')\n",
    "\n",
    "avg_instance_1 = running_avg ([10,20,30,40,50,60,70,80,90,100],4)\n",
    "'''The result of the moving average has n-k+1 elements. In our case it is 10-4+1 = 7 elements'''\n",
    "print(\"The moving average for the given window over the array is : \",avg_instance_1,\"\\n\")\n",
    "\n",
    "avg_instance_2 = running_avg ([3, 5, 7, 2, 8, 10, 11, 65, 72, 81, 99, 100, 150],3)\n",
    "'''The result of the moving average has n-k+1 elements. In our case it is 13-3+1 = 11 elements'''\n",
    "print(\"The moving average for the given window over the array is : \",avg_instance_2)"
   ]
  }
 ],
 "metadata": {
  "kernelspec": {
   "display_name": "Python 3",
   "language": "python",
   "name": "python3"
  },
  "language_info": {
   "codemirror_mode": {
    "name": "ipython",
    "version": 3
   },
   "file_extension": ".py",
   "mimetype": "text/x-python",
   "name": "python",
   "nbconvert_exporter": "python",
   "pygments_lexer": "ipython3",
   "version": "3.6.1"
  }
 },
 "nbformat": 4,
 "nbformat_minor": 2
}
